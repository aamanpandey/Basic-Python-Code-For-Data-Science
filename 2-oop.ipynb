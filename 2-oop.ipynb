{
 "cells": [
  {
   "cell_type": "markdown",
   "metadata": {
    "toc": true
   },
   "source": [
    "<h1>Table of Contents<span class=\"tocSkip\"></span></h1>\n",
    "<div class=\"toc\"><ul class=\"toc-item\"><li><span><a href=\"#Lecture-4--Object-oriented-programming\" data-toc-modified-id=\"Lecture-4--Object-oriented-programming-1\"><span class=\"toc-item-num\">1&nbsp;&nbsp;</span>Lecture 4--Object oriented programming</a></span><ul class=\"toc-item\"><li><span><a href=\"#1.-Programming:-Pandas\" data-toc-modified-id=\"1.-Programming:-Pandas-1.1\"><span class=\"toc-item-num\">1.1&nbsp;&nbsp;</span>1. Programming: Pandas</a></span></li><li><span><a href=\"#2.-Topic:-Object-oriented-programming\" data-toc-modified-id=\"2.-Topic:-Object-oriented-programming-1.2\"><span class=\"toc-item-num\">1.2&nbsp;&nbsp;</span>2. Topic: Object-oriented programming</a></span><ul class=\"toc-item\"><li><span><a href=\"#Benefits\" data-toc-modified-id=\"Benefits-1.2.1\"><span class=\"toc-item-num\">1.2.1&nbsp;&nbsp;</span>Benefits</a></span></li><li><span><a href=\"#Example\" data-toc-modified-id=\"Example-1.2.2\"><span class=\"toc-item-num\">1.2.2&nbsp;&nbsp;</span>Example</a></span></li></ul></li><li><span><a href=\"#3.-Data-Science:-Linear-model\" data-toc-modified-id=\"3.-Data-Science:-Linear-model-1.3\"><span class=\"toc-item-num\">1.3&nbsp;&nbsp;</span>3. Data Science: Linear model</a></span></li><li><span><a href=\"#4.-Programming-challenges\" data-toc-modified-id=\"4.-Programming-challenges-1.4\"><span class=\"toc-item-num\">1.4&nbsp;&nbsp;</span>4. Programming challenges</a></span><ul class=\"toc-item\"><li><span><a href=\"#Package-structure\" data-toc-modified-id=\"Package-structure-1.4.1\"><span class=\"toc-item-num\">1.4.1&nbsp;&nbsp;</span>Package structure</a></span></li><li><span><a href=\"#Audioactive-decay\" data-toc-modified-id=\"Audioactive-decay-1.4.2\"><span class=\"toc-item-num\">1.4.2&nbsp;&nbsp;</span>Audioactive decay</a></span></li></ul></li></ul></li></ul></div>"
   ]
  },
  {
   "cell_type": "markdown",
   "metadata": {},
   "source": [
    "# Lecture 4--Object oriented programming"
   ]
  },
  {
   "cell_type": "markdown",
   "metadata": {},
   "source": [
    "## 1. Programming: Pandas\n",
    "\n",
    "* [Introduction to Pandas](lec4files/03.00-Introduction-to-Pandas.ipynb)\n",
    "* [Introducing Pandas Objects](lec4files/03.01-Introducing-Pandas-Objects.ipynb)\n",
    "* [Data Indexing and Selection](lec4files/03.02-Data-Indexing-and-Selection.ipynb)\n",
    "* [Missing Values](lec4files/03.04-Missing-Values.ipynb)\n",
    "* [Concat And Append](lec4files/03.06-Concat-And-Append.ipynb)\n",
    "* [Merge and Join](lec4files/03.07-Merge-and-Join.ipynb)\n",
    "* [Aggregation and Grouping](lec4files/03.08-Aggregation-and-Grouping.ipynb)\n",
    "* [Working With Strings](lec4files/03.10-Working-With-Strings.ipynb)\n",
    "* [Working with Time Series](lec4files/03.11-Working-with-Time-Series.ipynb)\n",
    "* [Performance Eval and Query](lec4files/03.12-Performance-Eval-and-Query.ipynb)\n",
    "* [Further Resources](lec4files/03.13-Further-Resources.ipynb)\n"
   ]
  },
  {
   "cell_type": "markdown",
   "metadata": {},
   "source": [
    "## 2. Topic: Object-oriented programming\t\n",
    "\n",
    "### Benefits\n",
    "\n",
    "**Instantiation**\n",
    "\n",
    "Being able to make instances of something. Suppose you have a new data structure. You want to define the structure and makek instances given particular data sets. This can be accomplished with classes. You make a general class, then when faced with a data set, you make a new instance. This ties into the second benefit of object-orientation which is encapsulation\n",
    "\n",
    "**Encapsulation**\n",
    "\n",
    "Being able to combine multiple data points into a single object which will always have the same naming conventions. This allows us to define custom functions which work on a class and which all the instances of that class will have access to. For instance, in pandas, all data sets which would normally just be numpy matrices have dedicated column names attached to them. This allows us to query for the column names and guarantees that something will be there for every data set. \n",
    "\n",
    "**Inheritance**\n",
    "\n",
    "Suppose you wanted to make a panel data frame. This means that you need to create a bunch of panel functions and features, but if you didn't have inheritance, you would have to build this completely from scratch rewriting much of the pandas DataFrame code. With inheritance, you can simply extend the DataFrame class and start writing the new features and functions.\n",
    "\n",
    "### Example"
   ]
  },
  {
   "cell_type": "code",
   "execution_count": 1,
   "metadata": {},
   "outputs": [],
   "source": [
    "class A:\n",
    "    def __init__(self,name):\n",
    "        self.name = name\n",
    "    def print_name(self):\n",
    "        print(self.name)"
   ]
  },
  {
   "cell_type": "code",
   "execution_count": 2,
   "metadata": {},
   "outputs": [
    {
     "data": {
      "text/plain": [
       "<__main__.A at 0x1f6473fdc88>"
      ]
     },
     "execution_count": 2,
     "metadata": {},
     "output_type": "execute_result"
    }
   ],
   "source": [
    "A('aman')"
   ]
  },
  {
   "cell_type": "code",
   "execution_count": 3,
   "metadata": {},
   "outputs": [
    {
     "data": {
      "text/plain": [
       "'aman'"
      ]
     },
     "execution_count": 3,
     "metadata": {},
     "output_type": "execute_result"
    }
   ],
   "source": [
    "A('aman').name"
   ]
  },
  {
   "cell_type": "code",
   "execution_count": 4,
   "metadata": {},
   "outputs": [
    {
     "name": "stdout",
     "output_type": "stream",
     "text": [
      "aman\n"
     ]
    }
   ],
   "source": [
    "A('aman').print_name()"
   ]
  },
  {
   "cell_type": "code",
   "execution_count": 5,
   "metadata": {},
   "outputs": [],
   "source": [
    "class B(A):\n",
    "    def __init__(self,name,job):\n",
    "        super(B,self).__init__(name)\n",
    "        self.job = job\n",
    "    def print_name_and_job(self):\n",
    "        print('{0}\\'s job is: {1}'.format(self.name,self.job))"
   ]
  },
  {
   "cell_type": "code",
   "execution_count": 6,
   "metadata": {},
   "outputs": [
    {
     "name": "stdout",
     "output_type": "stream",
     "text": [
      "aman\n"
     ]
    }
   ],
   "source": [
    "B('aman','teacher').print_name()"
   ]
  },
  {
   "cell_type": "code",
   "execution_count": 7,
   "metadata": {},
   "outputs": [
    {
     "name": "stdout",
     "output_type": "stream",
     "text": [
      "aman's job is: teacher\n"
     ]
    }
   ],
   "source": [
    "B('aman','teacher').print_name_and_job()"
   ]
  }
 ],
 "metadata": {
  "kernelspec": {
   "display_name": "Python 3",
   "language": "python",
   "name": "python3"
  },
  "language_info": {
   "codemirror_mode": {
    "name": "ipython",
    "version": 3
   },
   "file_extension": ".py",
   "mimetype": "text/x-python",
   "name": "python",
   "nbconvert_exporter": "python",
   "pygments_lexer": "ipython3",
   "version": "3.7.4"
  },
  "toc": {
   "base_numbering": 1,
   "nav_menu": {},
   "number_sections": true,
   "sideBar": true,
   "skip_h1_title": false,
   "title_cell": "Table of Contents",
   "title_sidebar": "Contents",
   "toc_cell": true,
   "toc_position": {},
   "toc_section_display": true,
   "toc_window_display": true
  }
 },
 "nbformat": 4,
 "nbformat_minor": 2
}
